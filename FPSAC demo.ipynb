{
 "cells": [
  {
   "cell_type": "markdown",
   "metadata": {},
   "source": [
    "# Welcome to FPSAC2020 Online Poster: Crystal for stable Grothendieck polynomials!"
   ]
  },
  {
   "cell_type": "markdown",
   "metadata": {},
   "source": [
    "Authors: Jennifer Morse, Jianping Pan, Wencin Poh, Anne Schilling"
   ]
  },
  {
   "cell_type": "markdown",
   "metadata": {},
   "source": [
    "Short presentation at every 15min starting 22:00 UTC = 3pm in Seattle = 6pm in Boston = midnight in Paris = 3:30am in Bangalore = 7am in Seoul"
   ]
  },
  {
   "cell_type": "markdown",
   "metadata": {},
   "source": [
    "![title](photo.png)"
   ]
  },
  {
   "cell_type": "markdown",
   "metadata": {},
   "source": [
    "## File download links   \n",
    "Short slides: https://github.com/jianping-pan/FPSAC2020/raw/master/slides.pdf  \n",
    "Poster link: https://github.com/jianping-pan/FPSAC2020/raw/master/poster.pdf  \n",
    "FPSAC abstract: https://www.mat.univie.ac.at/~slc/wpapers/FPSAC2020/42-Schilling.pdf  \n",
    "Published full paper: https://www.combinatorics.org/ojs/index.php/eljc/article/view/v27i2p29"
   ]
  },
  {
   "cell_type": "code",
   "execution_count": null,
   "metadata": {},
   "outputs": [],
   "source": [
    "cd ../decreasing-factorizations/code"
   ]
  },
  {
   "cell_type": "code",
   "execution_count": null,
   "metadata": {},
   "outputs": [],
   "source": [
    "load('new_insertion.py')"
   ]
  },
  {
   "cell_type": "code",
   "execution_count": null,
   "metadata": {},
   "outputs": [],
   "source": [
    "from sage.monoids.hecke_monoid import HeckeMonoid\n",
    "from sage.combinat.rsk import RuleHecke\n",
    "from semistandard_set_valued_tableau import SemistandardSetValuedTableau, SemistandardSetValuedTableaux\n",
    "from weak_semistandard_set_valued_tableaux import residue\n",
    "from main import aart\n",
    "from star_crystal import StarCrystal"
   ]
  },
  {
   "cell_type": "markdown",
   "metadata": {},
   "source": [
    "    Hecke insertion algorithm"
   ]
  },
  {
   "cell_type": "code",
   "execution_count": null,
   "metadata": {},
   "outputs": [],
   "source": [
    "T = SemistandardSetValuedTableau([[[1],[2,3]],[[2],[4]]]);T.pp()"
   ]
  },
  {
   "cell_type": "code",
   "execution_count": null,
   "metadata": {},
   "outputs": [],
   "source": [
    "h = residue(T,4);h"
   ]
  },
  {
   "cell_type": "markdown",
   "metadata": {},
   "source": [
    "    The decreasing factorization h = (2)(3)(31)(2) in 2-line notation is\n",
    "    4 3 2 2 1\n",
    "    2 3 3 1 2"
   ]
  },
  {
   "cell_type": "code",
   "execution_count": null,
   "metadata": {},
   "outputs": [],
   "source": [
    "P,Q = RuleHecke().forward_rule([1,2,2,3,4],[2,1,3,3,2])\n",
    "aart(P,Q)"
   ]
  },
  {
   "cell_type": "code",
   "execution_count": null,
   "metadata": {},
   "outputs": [],
   "source": [
    "Q == T"
   ]
  },
  {
   "cell_type": "markdown",
   "metadata": {},
   "source": [
    "    Crystal Structure on 321-avoiding decreasing factorizations"
   ]
  },
  {
   "cell_type": "code",
   "execution_count": null,
   "metadata": {},
   "outputs": [],
   "source": [
    "w=[1,3,2]\n",
    "m=3\n",
    "excess = 1\n",
    "k = max(w)\n",
    "H = HeckeMonoid(SymmetricGroup(k+1))\n",
    "t = H.from_reduced_word(w)\n",
    "B = StarCrystal(t,m,excess)\n",
    "DB = B.digraph()\n",
    "B"
   ]
  },
  {
   "cell_type": "code",
   "execution_count": null,
   "metadata": {},
   "outputs": [],
   "source": [
    "DB"
   ]
  },
  {
   "cell_type": "markdown",
   "metadata": {},
   "source": [
    "    *-insertion"
   ]
  },
  {
   "cell_type": "code",
   "execution_count": null,
   "metadata": {},
   "outputs": [],
   "source": [
    "P,Q = new_insertion([1,1,2,2,3,3],[1,3,2,4,2,4])\n",
    "aart(P,Q)"
   ]
  },
  {
   "cell_type": "code",
   "execution_count": null,
   "metadata": {},
   "outputs": [],
   "source": []
  }
 ],
 "metadata": {
  "kernelspec": {
   "display_name": "SageMath 9.2.beta1",
   "language": "sage",
   "name": "sagemath"
  },
  "language_info": {
   "codemirror_mode": {
    "name": "ipython",
    "version": 3
   },
   "file_extension": ".py",
   "mimetype": "text/x-python",
   "name": "python",
   "nbconvert_exporter": "python",
   "pygments_lexer": "ipython3",
   "version": "3.7.3"
  }
 },
 "nbformat": 4,
 "nbformat_minor": 4
}
